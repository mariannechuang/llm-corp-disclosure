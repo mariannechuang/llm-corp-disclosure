{
 "cells": [
  {
   "cell_type": "markdown",
   "metadata": {},
   "source": [
    "This code takes in two csv files and counts how many companies appear only in one file or in both files"
   ]
  },
  {
   "cell_type": "code",
   "execution_count": 2,
   "metadata": {},
   "outputs": [],
   "source": [
    "import pandas as pd\n",
    "import re\n",
    "import csv"
   ]
  },
  {
   "cell_type": "code",
   "execution_count": 84,
   "metadata": {},
   "outputs": [
    {
     "name": "stdout",
     "output_type": "stream",
     "text": [
      "# in 4.1a  386\n",
      "# in 4.1b  461\n",
      "only 4.1a  191\n",
      "only 4.1b  266\n",
      "# in 4.1a and b  195\n"
     ]
    }
   ],
   "source": [
    "# Read the CSV file\n",
    "df_a = pd.read_csv(\"filtered_europe_4.1a_files/Filtered_European_2018_c4.1a.csv\")\n",
    "df_b = pd.read_csv(\"filtered_europe_4.1b_files/Filtered_European_2018_c4.1b.csv\")\n",
    "\n",
    "#for company in company_a_list:\n",
    "company_a_list = df_a[\"Organization\"]\n",
    "company_b_list = df_b[\"Organization\"]\n",
    "\n",
    "a_only = 0\n",
    "a_count = 0\n",
    "b_only = 0\n",
    "b_count = 0\n",
    "both_count = 0\n",
    "\n",
    "for company in company_a_list:\n",
    "    if company in company_b_list.values:\n",
    "        both_count += 1\n",
    "        a_count += 1\n",
    "        b_count += 1\n",
    "    else:\n",
    "        a_only += 1\n",
    "        a_count += 1\n",
    "\n",
    "for company in company_b_list:\n",
    "    if company not in company_a_list.values:\n",
    "        b_only += 1\n",
    "        b_count += 1\n",
    "\n",
    "print(\"# in 4.1a \", a_count)\n",
    "print(\"# in 4.1b \", b_count)\n",
    "print(\"only 4.1a \", a_only)\n",
    "print(\"only 4.1b \", b_only)\n",
    "print(\"# in 4.1a and b \", both_count)"
   ]
  },
  {
   "cell_type": "markdown",
   "metadata": {},
   "source": [
    "This code segment takes in a filtered csv data file and the list of A-list companies and counts how many of the companies are on the A-list"
   ]
  },
  {
   "cell_type": "code",
   "execution_count": 78,
   "metadata": {},
   "outputs": [
    {
     "name": "stdout",
     "output_type": "stream",
     "text": [
      "a total: 82\n",
      "b total 58\n",
      "only a:  35\n",
      "only b:  11\n",
      "both :  47\n",
      "neither:  0\n"
     ]
    }
   ],
   "source": [
    "# Read the CSV file\n",
    "df_4a = pd.read_csv(\"filtered_europe_4.1a_files/Filtered_European_2021_c4.1a.csv\")\n",
    "df_4b = pd.read_csv(\"filtered_europe_4.1b_files/Filtered_European_2021_c4.1b.csv\")\n",
    "df_a_list = pd.read_csv(\"a-list_data_files/2021_a_list.csv\")\n",
    "\n",
    "company_list_4a = df_4a[\"Organization\"]\n",
    "company_list_4b = df_4b[\"Organization\"]\n",
    "a_list = df_a_list[\"Company Name\"]\n",
    "\n",
    "a_only = 0\n",
    "a_count = 0\n",
    "b_only = 0\n",
    "b_count = 0\n",
    "both_count = 0\n",
    "neither = 0\n",
    "for company in a_list:\n",
    "    if company in company_list_4a.values and company in company_list_4b.values:\n",
    "        a_count += 1\n",
    "        b_count += 1\n",
    "        both_count += 1\n",
    "    elif company in company_list_4a.values:\n",
    "        a_only += 1\n",
    "        a_count += 1\n",
    "    elif company in company_list_4b.values:\n",
    "        b_only += 1\n",
    "        b_count += 1\n",
    "    else:\n",
    "        neither += 1\n",
    "\n",
    "print(\"a total:\", a_count)\n",
    "print(\"b total\", b_count)\n",
    "print(\"only a: \", a_only)\n",
    "print(\"only b: \", b_only)\n",
    "print(\"both : \", both_count)\n",
    "print(\"neither: \", neither)"
   ]
  },
  {
   "cell_type": "markdown",
   "metadata": {},
   "source": [
    "This code gets specific companies that are on the A-list that we do not have valid responses due to differences in company names. "
   ]
  },
  {
   "cell_type": "code",
   "execution_count": 74,
   "metadata": {},
   "outputs": [],
   "source": [
    "year = \"2021\"\n",
    "question = \"a\""
   ]
  },
  {
   "cell_type": "code",
   "execution_count": 75,
   "metadata": {},
   "outputs": [
    {
     "name": "stdout",
     "output_type": "stream",
     "text": [
      "companies with valid responses:  93\n",
      "['Danone', 'Lenzing AG', 'Metsä Board Corporation', \"L'Oréal\", 'Symrise AG', 'FIRMENICH SA', 'Mondi PLC', 'Unilever plc', 'Carlsberg Breweries A/S', 'Kering', 'SANOFI', 'GEA Group AG', 'Brembo SpA', 'Koninklijke DSM', 'Jerónimo Martins SGPS SA', 'Coca-Cola HBC AG', 'AstraZeneca', 'Coca-Cola Europacific Partners', 'Diageo Plc', 'J Sainsbury Plc', 'Borregaard ASA', 'TETRA PAK', 'Lundbeck A/S', 'Novo Nordisk A/S', 'Ørsted', 'The LEGO Group', 'Kesko Corporation', 'Kone Oyj', 'Alstom', 'Atos SE', 'Capgemini SE', 'Carrefour', 'EDF', 'JCDecaux SA.', 'Klepierre', 'La Banque Postale', 'La Poste', 'Mercialys', 'Michelin', 'Saint-Gobain', 'Schneider Electric', 'Sopra Steria Group', 'Unibail-Rodamco-Westfield', 'Vallourec', 'VINCI', 'Worldline SA', 'Bayer AG', 'Deutsche Bahn AG', 'Deutsche Telekom AG', 'E.ON SE', 'HeidelbergCement AG', 'LANXESS AG', 'Robert Bosch GmbH', 'SAP SE', 'thyssenkrupp AG', 'TK Elevator GmbH', 'ENEL SpA', 'Leonardo', 'Pirelli', 'Salvatore Ferragamo SpA', 'Sofidel S.p.A.', 'Koninklijke Philips NV', 'PostNL', 'Royal BAM Group nv', 'Signify N.V.', 'Grieg Seafood', 'REMA1000', 'Scatec ASA', 'TietoEVRY', 'ACCIONA S.A.', 'CaixaBank', 'Cellnex Telecom SA', 'ENAGAS', 'Ferrovial', 'Grupo Logista', 'Iberdrola SA', 'Inmobiliaria Colonial', 'Siemens Gamesa Renewable Energy SA', 'Telefónica', 'Bonava', 'Volvo Car Group', 'Compagnie Financière Richemont SA', 'Holcim Ltd.', 'UBS', 'Atlantica Sustainable Infrastructure PLC', 'BT Group', 'CNH Industrial NV', 'Currys Plc', 'Imperial Brands', 'Landsec', 'National Grid PLC', 'Severn Trent', 'Givaudan SA']\n",
      "companies with no responses found:  0\n",
      "[]\n"
     ]
    }
   ],
   "source": [
    "# Read the CSV file\n",
    "file_1 = \"filtered_europe_4.1a_files/Filtered_European_\" + year + \"_c4.1a.csv\"\n",
    "df_4a = pd.read_csv(file_1)\n",
    "file_2 = \"filtered_europe_4.1b_files/Filtered_European_\" + year + \"_c4.1b.csv\"\n",
    "df_4b = pd.read_csv(file_2)\n",
    "a_file = \"a-list_data_files/\" + year + \"_a_list.csv\"\n",
    "df_a_list = pd.read_csv(a_file)\n",
    "\n",
    "company_list_4a = df_4a[\"Organization\"]\n",
    "company_list_4b = df_4b[\"Organization\"]\n",
    "a_list = df_a_list[\"Company Name\"]\n",
    "\n",
    "valid = []\n",
    "no_response = []\n",
    "for company in a_list:\n",
    "    if company in company_list_4a.values or company in company_list_4b.values:\n",
    "        valid.append(company)\n",
    "    else: \n",
    "        no_response.append(company)\n",
    "\n",
    "print(\"companies with valid responses: \", len(valid))\n",
    "print(valid)\n",
    "print(\"companies with no responses found: \", len(no_response))\n",
    "print(no_response)"
   ]
  },
  {
   "cell_type": "markdown",
   "metadata": {},
   "source": [
    "The following takes in the filtered 4.1a and 4.1b files and filters out european countries into a new csv file"
   ]
  },
  {
   "cell_type": "code",
   "execution_count": 76,
   "metadata": {},
   "outputs": [
    {
     "name": "stdout",
     "output_type": "stream",
     "text": [
      "835\n",
      "Filtered data has been saved to filtered_europe_4.1a_files/Filtered_European_2021_c4.1a.csv\n"
     ]
    }
   ],
   "source": [
    "#Read the CSV file\n",
    "file_name = \"filtered_4.1\" + question + \"_files/Filtered_\" + year + \"_c4.1\" + question + \".csv\"\n",
    "input_file = file_name\n",
    "df = pd.read_csv(input_file)\n",
    "\n",
    "european_countries = [\n",
    "    'Albania', 'Andorra', 'Armenia', 'Austria', 'Azerbaijan', 'Belarus', 'Belgium', 'Bosnia and Herzegovina',\n",
    "    'Bulgaria', 'Croatia', 'Cyprus', 'Czech Republic', 'Denmark', 'Estonia', 'Finland', 'France', 'Georgia', 'Germany',\n",
    "    'Greece', 'Hungary', 'Iceland', 'Ireland', 'Italy', 'Kazakhstan', 'Kosovo', 'Latvia', 'Liechtenstein', 'Lithuania',\n",
    "    'Luxembourg', 'Malta', 'Moldova', 'Monaco', 'Montenegro', 'Netherlands', 'North Macedonia', 'Norway', 'Poland',\n",
    "    'Portugal', 'Romania', 'Russia', 'San Marino', 'Serbia', 'Slovakia', 'Slovenia', 'Spain', 'Sweden', 'Switzerland',\n",
    "    'Turkey', 'Ukraine', 'United Kingdom', 'Vatican City', 'United Kingdom of Great Britain and Northern Ireland'\n",
    "]\n",
    "\n",
    "filtered_df = df[df['Country'].isin(european_countries)]\n",
    "\n",
    "output_name = \"filtered_europe_4.1\" + question + \"_files/Filtered_European_\" + year + \"_c4.1\" + question + \".csv\"\n",
    "output_file = output_name\n",
    "filtered_df.to_csv(output_file, index=False)\n",
    "print(len(filtered_df))\n",
    "print(f\"Filtered data has been saved to {output_file}\")"
   ]
  },
  {
   "cell_type": "markdown",
   "metadata": {},
   "source": [
    "Counting total number of European companies that answered the questionaire"
   ]
  },
  {
   "cell_type": "code",
   "execution_count": 90,
   "metadata": {},
   "outputs": [
    {
     "name": "stdout",
     "output_type": "stream",
     "text": [
      "number of european companies:  2398\n"
     ]
    }
   ],
   "source": [
    "#Read the CSV file\n",
    "input_file = 'raw_files_4.1a/2022_c4.1a.csv'\n",
    "df = pd.read_csv(input_file)\n",
    "\n",
    "european_countries = [\n",
    "    'Albania', 'Andorra', 'Armenia', 'Austria', 'Azerbaijan', 'Belarus', 'Belgium', 'Bosnia and Herzegovina',\n",
    "    'Bulgaria', 'Croatia', 'Cyprus', 'Czech Republic', 'Denmark', 'Estonia', 'Finland', 'France', 'Georgia', 'Germany',\n",
    "    'Greece', 'Hungary', 'Iceland', 'Ireland', 'Italy', 'Kazakhstan', 'Kosovo', 'Latvia', 'Liechtenstein', 'Lithuania',\n",
    "    'Luxembourg', 'Malta', 'Moldova', 'Monaco', 'Montenegro', 'Netherlands', 'North Macedonia', 'Norway', 'Poland',\n",
    "    'Portugal', 'Romania', 'Russia', 'San Marino', 'Serbia', 'Slovakia', 'Slovenia', 'Spain', 'Sweden', 'Switzerland',\n",
    "    'Turkey', 'Ukraine', 'United Kingdom', 'Vatican City', 'United Kingdom of Great Britain and Northern Ireland'\n",
    "]\n",
    "\n",
    "filtered_df = df[df['Country'].isin(european_countries)]\n",
    "\n",
    "company_name_list = filtered_df.loc[:,\"Organization\"]\n",
    "index = 0\n",
    "count = 1\n",
    "\n",
    "while(index+1 < len(filtered_df)):\n",
    "    if(company_name_list.iloc[index] != company_name_list.iloc[index+1]):\n",
    "        count += 1\n",
    "    index += 1\n",
    "\n",
    "print(\"number of european companies: \", count)"
   ]
  }
 ],
 "metadata": {
  "kernelspec": {
   "display_name": "Python 3",
   "language": "python",
   "name": "python3"
  },
  "language_info": {
   "codemirror_mode": {
    "name": "ipython",
    "version": 3
   },
   "file_extension": ".py",
   "mimetype": "text/x-python",
   "name": "python",
   "nbconvert_exporter": "python",
   "pygments_lexer": "ipython3",
   "version": "3.12.4"
  }
 },
 "nbformat": 4,
 "nbformat_minor": 2
}
