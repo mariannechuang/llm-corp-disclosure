{
 "cells": [
  {
   "cell_type": "markdown",
   "metadata": {},
   "source": [
    "Title: Post Processing for Pairwise Comparisons\n",
    "\n",
    "Overview:\n",
    "This scripts takes in two files produced from pairwise_new_prompting.ipynb, and calculates KS Statistic, TVD, and EMD between the two files (A list vs non A List)\n",
    "\n",
    "Then it generates a density histogram comparing A List vs Non A List company average pairwise scores.\n"
   ]
  },
  {
   "cell_type": "code",
   "execution_count": null,
   "metadata": {},
   "outputs": [],
   "source": [
    "from scipy.stats import wasserstein_distance\n",
    "import matplotlib.pyplot as plt\n",
    "from scipy import stats"
   ]
  },
  {
   "cell_type": "markdown",
   "metadata": {},
   "source": [
    "function that calculates tvd"
   ]
  },
  {
   "cell_type": "code",
   "execution_count": null,
   "metadata": {},
   "outputs": [],
   "source": [
    "# function that calculates the total variation distance between two histograms\n",
    "def calculate_tvd(hist1, hist2):\n",
    "    # Normalize histograms to sum to 1 (convert to probability distributions)\n",
    "    hist1 = hist1 / np.sum(hist1)\n",
    "    hist2 = hist2 / np.sum(hist2)\n",
    "    \n",
    "    # Calculate the total variation distance\n",
    "    tvd = 0.5 * np.sum(np.abs(hist1 - hist2))\n",
    "    return tvd\n"
   ]
  },
  {
   "cell_type": "markdown",
   "metadata": {},
   "source": [
    "Input the A list and Non A List files to read, define bins"
   ]
  },
  {
   "cell_type": "code",
   "execution_count": null,
   "metadata": {},
   "outputs": [],
   "source": [
    "file_a = \"sample_averages_a_list.csv\"\n",
    "file_b = \"sample_averages_non_a_list.csv\"\n",
    "df_average_companies = pd.read_csv(file_b)\n",
    "df_average_a_list_companies = pd.read_csv(file_a)\n",
    "\n",
    "# 25 bins from zero to 100\n",
    "bins = [0, 4, 8, 12, 16, 20, 24, 28, 32, 36, 40, 44, 48, 52, 56, 60, 64, 68, 72, 76, 80, 84, 88, 92, 96, 100]\n",
    "\n",
    "bin_centers = [2, 6, 10, 14, 18, 22, 26, 30, 34, 38, 42, 46, 50, 54, 58, 62, 66, 70, 74, 78, 82, 86, 90, 94, 98]\n"
   ]
  },
  {
   "cell_type": "markdown",
   "metadata": {},
   "source": [
    "This script gets the KS Statistic, P-Value, TVD, and EMD of the A list vs Non A List companies, then graphs a density histogram comparing their averages"
   ]
  },
  {
   "cell_type": "code",
   "execution_count": null,
   "metadata": {},
   "outputs": [],
   "source": [
    "hist1,_ = np.histogram(df_average_a_list_companies[\"Average\"], bins = bins)\n",
    "hist2,_ = np.histogram(df_average_companies[\"Average\"], bins = bins)\n",
    "\n",
    "\n",
    "ks_statistic, p_value = stats.ks_2samp(df_average_a_list_companies[\"Average\"], df_average_companies[\"Average\"])\n",
    "print(f\"KS Statistic: {ks_statistic}\")\n",
    "print(f\"P-value: {p_value}\")\n",
    "\n",
    "tvd = calculate_tvd(hist1, hist2)\n",
    "print(\"TVD = \", tvd)\n",
    "\n",
    "emd = wasserstein_distance(bin_centers, bin_centers, u_weights=hist1, v_weights=hist2)\n",
    "print(\"EMD = \", emd)\n",
    "\n",
    "\n",
    "# Set the y-axis limit\n",
    "plt.ylim(0, 0.1)  # Adjust the max y-axis value to 10\n",
    "\n",
    "plt.hist(df_average_a_list_companies[\"Average\"], bins=bins, alpha = 0.5, label='A-list Companies', color='blue',density=True)\n",
    "plt.hist(df_average_companies[\"Average\"], bins=bins, alpha = 0.5, label='Non A-list Companies', color='red',density=True)\n",
    "plt.xlabel('Average Pairwise')\n",
    "plt.ylabel('Density')\n",
    "hist_title = \"Pairwise - With Explanation\"\n",
    "plt.title(hist_title)\n",
    "plt.legend(loc='upper right')"
   ]
  }
 ],
 "metadata": {
  "language_info": {
   "name": "python"
  }
 },
 "nbformat": 4,
 "nbformat_minor": 2
}
