{
 "cells": [
  {
   "cell_type": "code",
   "execution_count": 1,
   "metadata": {},
   "outputs": [],
   "source": [
    "import numpy as np\n",
    "import pandas as pd\n",
    "import matplotlib.pyplot as plt\n",
    "from scipy import stats"
   ]
  },
  {
   "cell_type": "markdown",
   "metadata": {},
   "source": [
    "Statistical analysis on average ratings"
   ]
  },
  {
   "cell_type": "code",
   "execution_count": 2,
   "metadata": {},
   "outputs": [],
   "source": [
    "# method that calculates the total variation distance between two histograms\n",
    "def calculate_tvd(hist1, hist2):\n",
    "    # Normalize histograms to sum to 1 (convert to probability distributions)\n",
    "    hist1 = hist1 / np.sum(hist1)\n",
    "    hist2 = hist2 / np.sum(hist2)\n",
    "    \n",
    "    # Calculate the total variation distance\n",
    "    tvd = 0.5 * np.sum(np.abs(hist1 - hist2))\n",
    "    return tvd"
   ]
  },
  {
   "cell_type": "markdown",
   "metadata": {},
   "source": [
    "calculating total variation distance"
   ]
  },
  {
   "cell_type": "code",
   "execution_count": 21,
   "metadata": {},
   "outputs": [
    {
     "name": "stdout",
     "output_type": "stream",
     "text": [
      "TVD =  0.06666666666666665\n"
     ]
    }
   ],
   "source": [
    "# get data\n",
    "# year = \"2018\"\n",
    "# file_a = 'Part_1_Company_Testing/pairwise_testing_against_same_20/25_A_List_Averages.csv'\n",
    "# file_b = 'Part_1_Company_Testing/pairwise_testing_against_same_20/25_Non_A_List_Averages.csv'\n",
    "\n",
    "file_a = \"Part_1_Company_Testing/147_147_Companies/147_A_List_Pairwise_Averages.csv\"\n",
    "file_b = \"Part_1_Company_Testing/147_147_Companies/147_Non_A_List_Pairwise_Averages.csv\"\n",
    "\n",
    "df_a = pd.read_csv(file_a)\n",
    "df_b = pd.read_csv(file_b)\n",
    "\n",
    "# get histograms\n",
    "# # bins = [1,1.5,2,2.5,3,3.5,4,4.5,5]\n",
    "# bins=[10,20,30,40,50,60,70,80,90,100]\n",
    "\n",
    "bins = [0, 0.125, 0.25, 0.375, 0.5, 0.625, 0.75, 0.875, 1]\n",
    "\n",
    "hist1,_ = np.histogram(df_a[\"Weighted_Average\"], bins = bins)\n",
    "hist2,_ = np.histogram(df_b[\"Weighted_Average\"], bins = bins)\n",
    "\n",
    "tvd = calculate_tvd(hist1, hist2)\n",
    "print(\"TVD = \", tvd)"
   ]
  },
  {
   "cell_type": "markdown",
   "metadata": {},
   "source": [
    "calculating TVD scaled"
   ]
  },
  {
   "cell_type": "code",
   "execution_count": 16,
   "metadata": {},
   "outputs": [
    {
     "name": "stdout",
     "output_type": "stream",
     "text": [
      "TVD =  0.36862244897959184\n"
     ]
    }
   ],
   "source": [
    "import pandas as pd\n",
    "import numpy as np\n",
    "\n",
    "# Define the function to calculate TVD\n",
    "def calculate_tvd(hist1, hist2):\n",
    "    # Normalize histograms to convert them into probability distributions\n",
    "    hist1 = hist1 / np.sum(hist1)\n",
    "    hist2 = hist2 / np.sum(hist2)\n",
    "    \n",
    "    # Calculate Total Variation Distance (TVD)\n",
    "    tvd = 0.5 * np.sum(np.abs(hist1 - hist2))\n",
    "    return tvd\n",
    "\n",
    "# File paths for A List and Non A List data\n",
    "file_a = \"Part_1_Company_Testing/147_147_Companies_No_Explanation/Averages_147_A_List.csv\"\n",
    "file_b = \"Part_1_Company_Testing/147_147_Companies_No_Explanation/Averages_147_Non_A_List.csv\"\n",
    "\n",
    "# Load data\n",
    "df_a = pd.read_csv(file_a)\n",
    "df_b = pd.read_csv(file_b)\n",
    "\n",
    "# Convert Weighted_Average columns to numeric and handle errors\n",
    "df_a['Average_Log_Probability'] = pd.to_numeric(df_a['Average_Log_Probability'], errors='coerce') / 100\n",
    "df_b['Average_Log_Probability'] = pd.to_numeric(df_b['Average_Log_Probability'], errors='coerce') / 100\n",
    "\n",
    "# Define the bins (scaled from 0 to 1)\n",
    "bins = [0, 0.125, 0.25, 0.375, 0.5, 0.625, 0.75, 0.875, 1]\n",
    "\n",
    "# Get histograms\n",
    "hist1, _ = np.histogram(df_a[\"Average_Log_Probability\"].dropna(), bins=bins)\n",
    "hist2, _ = np.histogram(df_b[\"Average_Log_Probability\"].dropna(), bins=bins)\n",
    "\n",
    "# Calculate TVD\n",
    "tvd = calculate_tvd(hist1, hist2)\n",
    "\n",
    "# Print the TVD\n",
    "print(\"TVD = \", tvd)\n"
   ]
  },
  {
   "cell_type": "markdown",
   "metadata": {},
   "source": [
    "Calculate KS statistic and P-value: Kolmogorov-Smirnov (KS) test"
   ]
  },
  {
   "cell_type": "code",
   "execution_count": 17,
   "metadata": {},
   "outputs": [
    {
     "name": "stdout",
     "output_type": "stream",
     "text": [
      "KS Statistic: 0.3774092970521542\n",
      "P-value: 8.320389984048573e-10\n"
     ]
    },
    {
     "data": {
      "image/png": "[encoded data removed]",
      "text/plain": [
       "<Figure size 640x480 with 1 Axes>"
      ]
     },
     "metadata": {},
     "output_type": "display_data"
    }
   ],
   "source": [
    "ks_statistic, p_value = stats.ks_2samp(df_a[\"Average_Log_Probability\"], df_b[\"Average_Log_Probability\"])\n",
    "print(f\"KS Statistic: {ks_statistic}\")\n",
    "print(f\"P-value: {p_value}\")\n",
    "\n",
    "# Optional: Plot ECDFs based on raw data\n",
    "def ecdf(data):\n",
    "    \"\"\"Compute ECDF for a one-dimensional array of measurements.\"\"\"\n",
    "    x = np.sort(data)\n",
    "    n = len(data)\n",
    "    y = np.arange(1, n+1) / n\n",
    "    return x, y\n",
    "\n",
    "# Get ECDFs for both datasets\n",
    "x1, y1 = ecdf(df_a[\"Average_Log_Probability\"])\n",
    "x2, y2 = ecdf(df_b[\"Average_Log_Probability\"])\n",
    "\n",
    "plt.step(x1, y1, label='A List', where='post', color = 'blue')\n",
    "plt.step(x2, y2, label='Non A List', where='post', color = 'red')\n",
    "plt.xlabel('Value')\n",
    "plt.ylabel('ECDF')\n",
    "plt.title('ECDF Comparison - Pairwise No Explanation')\n",
    "plt.legend()\n",
    "plt.show()"
   ]
  },
  {
   "cell_type": "markdown",
   "metadata": {},
   "source": [
    "Calculate Bhattacharyya distance"
   ]
  },
  {
   "cell_type": "code",
   "execution_count": 29,
   "metadata": {},
   "outputs": [],
   "source": [
    "def bhattacharyya_distance(hist1, hist2):\n",
    "    \n",
    "    # Ensure histograms are normalized (i.e., they sum to 1)\n",
    "    hist1 = hist1 / np.sum(hist1)\n",
    "    hist2 = hist2 / np.sum(hist2)\n",
    "    \n",
    "    # Calculate the Bhattacharyya coefficient\n",
    "    bc = np.sum(np.sqrt(hist1 * hist2))\n",
    "    \n",
    "    # Calculate the Bhattacharyya distance\n",
    "    distance = -np.log(bc)\n",
    "    \n",
    "    return distance"
   ]
  },
  {
   "cell_type": "code",
   "execution_count": 30,
   "metadata": {},
   "outputs": [
    {
     "name": "stdout",
     "output_type": "stream",
     "text": [
      "bhattacharyya distance =  0.13569750079284293\n"
     ]
    }
   ],
   "source": [
    "# get data\n",
    "# year = \"2022\"\n",
    "# folder_name = \"50_a_vs_non_a_with_example\"\n",
    "# file_a = \"rating_results/\" + folder_name + \"/average_ratings/a_list_average_ratings_\" + year\n",
    "# file_b = \"rating_results/\" + folder_name + \"/average_ratings/non_a_list_average_ratings_\" + year\n",
    "\n",
    "# df_a = pd.read_csv(file_a)\n",
    "# df_b = pd.read_csv(file_b)\n",
    "\n",
    "# get histograms\n",
    "bins=[10,20,30,40,50,60,70,80,90,100]\n",
    "hist1,_ = np.histogram(df_a[\"Average\"], bins = bins)\n",
    "hist2,_ = np.histogram(df_b[\"Average\"], bins = bins)\n",
    "\n",
    "distance = bhattacharyya_distance(hist1, hist2)\n",
    "print(\"bhattacharyya distance = \", distance)"
   ]
  }
 ],
 "metadata": {
  "kernelspec": {
   "display_name": "Python 3",
   "language": "python",
   "name": "python3"
  },
  "language_info": {
   "codemirror_mode": {
    "name": "ipython",
    "version": 3
   },
   "file_extension": ".py",
   "mimetype": "text/x-python",
   "name": "python",
   "nbconvert_exporter": "python",
   "pygments_lexer": "ipython3",
   "version": "3.9.6"
  }
 },
 "nbformat": 4,
 "nbformat_minor": 2
}
