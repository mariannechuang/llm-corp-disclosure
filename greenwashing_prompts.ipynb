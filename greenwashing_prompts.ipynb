{
 "cells": [
  {
   "cell_type": "markdown",
   "metadata": {},
   "source": [
    "Title: Greenwashing Responses with 3 Different Prompts\n",
    "\n",
    "Overview:\n",
    "This script takes in original climate disclosure responses and greenwashes them using the prompts below.\n",
    "\n",
    "Main Features:\n",
    "- Rewrites company responses to two key CDP questions:\n",
    "    Absolute Emissions Targets (C4.1a)\n",
    "    Emissions Intensity Targets (C4.1b)\n",
    "\n",
    "- Supports three prompt strictness levels:\n",
    "    Loose: Ignores length/accuracy constraints.\n",
    "    Medium: Enforces accuracy (factual intent) but not length\n",
    "    Strict: Preserves accuracy and length (original word count)\n",
    "\n",
    "\n",
    "How to Run:\n",
    "1. Install dependencies:\n",
    "    openai\n",
    "    pandas\n",
    "    numpy\n",
    "\n",
    "2. Set up your OpenAI API key in `api_keys.py`.\n",
    "    ex. # api_keys.py\n",
    "        OPEN_AI_API_KEYS = [\"your-api-key-here\"]\n",
    "\n",
    "3. Adjust the input and output file paths as needed in the script.\n",
    "\n",
    "\n",
    "Note:\n",
    "Make sure the company responses are aligned with the model's input requirements."
   ]
  },
  {
   "cell_type": "markdown",
   "metadata": {},
   "source": [
    "prompt to ask chatgpt to rewrite response in order to make it seem like an A List company"
   ]
  },
  {
   "cell_type": "code",
   "execution_count": null,
   "metadata": {},
   "outputs": [],
   "source": [
    "import openai\n",
    "MODEL = 'gpt-4o-2024-08-06'\n",
    "from api_keys import OPEN_AI_API_KEYS\n",
    "key = OPEN_AI_API_KEYS[0]\n",
    "client = openai.OpenAI(api_key=key)\n",
    "openai.api_key = key\n",
    "\n",
    "import numpy as np\n",
    "import pandas as pd\n",
    "import csv"
   ]
  },
  {
   "cell_type": "code",
   "execution_count": null,
   "metadata": {},
   "outputs": [],
   "source": [
    "def safe_cast_to_int(s):\n",
    "    try:\n",
    "        return int(s)\n",
    "    except ValueError:\n",
    "        return None "
   ]
  },
  {
   "cell_type": "code",
   "execution_count": null,
   "metadata": {},
   "outputs": [],
   "source": [
    "def prepare_messages(prompts):\n",
    "\tmessages = []\n",
    "\tfor prompt in prompts:\n",
    "\t\tline = {\"role\": \"user\", \"content\": prompt}\n",
    "\t\tmessages.append(line)\n",
    "\treturn messages\n",
    "\n",
    "def get_model_output_initial_sentences(prompts, client, model):\n",
    "    completion = client.chat.completions.create(\n",
    "        model=MODEL,\n",
    "        messages=prepare_messages(prompts),\n",
    "        temperature=0\n",
    "    )\n",
    "    output = completion.choices[0].message.content\n",
    "    return output"
   ]
  },
  {
   "cell_type": "code",
   "execution_count": null,
   "metadata": {},
   "outputs": [],
   "source": [
    "Response_A_2022 = \"C4.1a_C27_Provide details of your absolute emissions target(s) and progress made against those targets. - Please explain target coverage and identify any exclusions\"\n",
    "Response_B_2022 = \"C4.1b_C30_Provide details of your emissions intensity target(s) and progress made against those target(s). - Please explain target coverage and identify any exclusions\""
   ]
  },
  {
   "cell_type": "markdown",
   "metadata": {},
   "source": [
    "get_prompt_loose: doesnt enforce length or accuracy"
   ]
  },
  {
   "cell_type": "code",
   "execution_count": null,
   "metadata": {},
   "outputs": [],
   "source": [
    "def get_prompt_loose(response_a, response_b):\n",
    "    prompt_a = [\n",
    "        \"The following company wants to be included on the A List of the CDP report. \",\n",
    "        \"Rephrase the company's response to enhance specificity, clarity, completeness, and depth. \",\n",
    "        \"Ensure that the revised response highlights tangible actions and measurable progress. \",\n",
    "        \"If the response is nan or empty, leave it the same. \",\n",
    "        \"Greenwash the response by using terms that make the company seem more environmentally driven. \",\n",
    "        f\"[The Start of Company’s Question 1 Response] {response_a} [The End of Company’s Response]\"\n",
    "    ]\n",
    "    \n",
    "    prompt_b = [\n",
    "        \"The following company wants to be included on the A List of the CDP report. \",\n",
    "        \"Rephrase the company's response to enhance specificity, clarity, completeness, and depth. \",\n",
    "        \"Ensure that the revised response highlights tangible actions and measurable progress. \",\n",
    "        \"If the response is nan or empty, leave it the same. \",\n",
    "        \"Greenwash the response by using terms that make the company seem more environmentally driven. \",\n",
    "        f\"[The Start of Company’s Question 2 Response] {response_b} [The End of Company’s Response]\"\n",
    "    ]\n",
    "\n",
    "    return prompt_a, prompt_b"
   ]
  },
  {
   "cell_type": "markdown",
   "metadata": {},
   "source": [
    "get_prompt_medium: enforces accuracy but not length"
   ]
  },
  {
   "cell_type": "code",
   "execution_count": null,
   "metadata": {},
   "outputs": [],
   "source": [
    "def get_prompt_medium(response_a, response_b):\n",
    "    prompt_a = [\n",
    "        \"The following company wants to be included on the A List of the CDP report. \",\n",
    "        \"Rephrase the company's response to enhance specificity, clarity, completeness, and depth. \",\n",
    "        \"Ensure that the revised response highlights tangible actions and measurable progress. \",\n",
    "        \"If the response is nan or empty, leave it the same. \",\n",
    "        \"Greenwash the response by using terms that make the company seem more environmentally driven. \",\n",
    "        \"Do not change planned actions into completed actions or planned targets into achieved results. \",\n",
    "        f\"[The Start of Company’s Question 1 Response] {response_a} [The End of Company’s Response]\"\n",
    "    ]\n",
    "    \n",
    "    prompt_b = [\n",
    "        \"The following company wants to be included on the A List of the CDP report. \",\n",
    "        \"Rephrase the company's response to enhance specificity, clarity, completeness, and depth. \",\n",
    "        \"Ensure that the revised response highlights tangible actions and measurable progress. \",\n",
    "        \"If the response is nan or empty, leave it the same. \",\n",
    "        \"Greenwash the response by using terms that make the company seem more environmentally driven. \",\n",
    "        \"Do not change planned actions into completed actions or planned targets into achieved results. \",\n",
    "        f\"[The Start of Company’s Question 2 Response] {response_b} [The End of Company’s Response]\"\n",
    "    ]\n",
    "\n",
    "    return prompt_a, prompt_b"
   ]
  },
  {
   "cell_type": "markdown",
   "metadata": {},
   "source": [
    "get_prompt_strict: enforces length and accuracy"
   ]
  },
  {
   "cell_type": "code",
   "execution_count": null,
   "metadata": {},
   "outputs": [],
   "source": [
    "def get_prompt_strict(response_a, response_b):\n",
    "    prompt_a = [\n",
    "        \"The following company wants to be included on the A List of the CDP report. \",\n",
    "        \"Rephrase the company's response to enhance specificity, clarity, completeness, and depth. \",\n",
    "        \"Ensure that the revised response highlights tangible actions and measurable progress. \",\n",
    "        \"If the response is nan or empty, leave it the same. \",\n",
    "        \"Greenwash the response by using terms that make the company seem more environmentally driven. \",\n",
    "        \"Do not change planned actions into completed actions or planned targets into achieved results. \",\n",
    "        \"Preserve the word count of the original response.\",\n",
    "        f\"[The Start of Company’s Question 1 Response] {response_a} [The End of Company’s Response]\"\n",
    "    ]\n",
    "    \n",
    "    prompt_b = [\n",
    "        \"The following company wants to be included on the A List of the CDP report. \",\n",
    "        \"Rephrase the company's response to enhance specificity, clarity, completeness, and depth. \",\n",
    "        \"Ensure that the revised response highlights tangible actions and measurable progress. \",\n",
    "        \"If the response is nan or empty, leave it the same. \",\n",
    "        \"Greenwash the response by using terms that make the company seem more environmentally driven. \",\n",
    "        \"Do not change planned actions into completed actions or planned targets into achieved results. \",\n",
    "        \"Preserve the word count of the original response. \",\n",
    "        f\"[The Start of Company’s Question 2 Response] {response_b} [The End of Company’s Response]\"\n",
    "    ]\n",
    "\n",
    "    return prompt_a, prompt_b"
   ]
  },
  {
   "cell_type": "markdown",
   "metadata": {},
   "source": [
    "the following takes in a file w company and reponse, greenwashes, then returns the new responses for the companies"
   ]
  },
  {
   "cell_type": "code",
   "execution_count": null,
   "metadata": {},
   "outputs": [],
   "source": [
    "companies_file = \"non_a_list_sample.csv\"\n",
    "input_file = \"sample_dataset.csv\"\n",
    "output_file = \"greenwashed_responses.csv\"\n",
    "\n",
    "df = pd.read_csv(input_file)\n",
    "c_df = pd.read_csv(companies_file)\n",
    "company_name_list = df.loc[:,\"Organization\"]\n",
    "response_a_list = df.loc[:,Response_A_2022]\n",
    "response_b_list = df.loc[:,Response_B_2022]\n",
    "fields = [\"Company\", \"Old Response A\", \"Old Response B\", \"New Response A\", \"New Response B\"]\n",
    "\n",
    "with open(output_file, 'w', newline='') as csvfile:\n",
    "    writer = csv.DictWriter(csvfile, fieldnames=fields, quoting=csv.QUOTE_ALL)\n",
    "    writer.writeheader()\n",
    "    # Iterate over each company's responses and generate the API prompts\n",
    "    index = 0\n",
    "    while(index < len(df)):\n",
    "        if(company_name_list[index] in c_df['Company'].values):\n",
    "        # for company_name, response_a, response_b in zip(company_name_list, response_a_list, response_b_list):\n",
    "                       # Prepare prompt for Response A\n",
    "\n",
    "            prompt_a, prompt_b = get_prompt_strict(response_a_list[index], response_b_list[index])\n",
    "            # Get the model outputs for each response\n",
    "            output_a = get_model_output_initial_sentences(prompt_a, client, MODEL)\n",
    "            output_b = get_model_output_initial_sentences(prompt_b, client, MODEL)\n",
    "            \n",
    "            line = {\n",
    "                \"Company\": company_name_list[index], \n",
    "                \"Old Response A\": response_a_list[index],\n",
    "                \"Old Response B\": response_b_list[index],\n",
    "                \"New Response A\": output_a, \n",
    "                \"New Response B\": output_b,\n",
    "            }\n",
    "            writer.writerow(line)\n",
    "            print(\"Company\", company_name_list[index])\n",
    "        index += 1\n",
    "    csvfile.close()\n",
    "\n",
    "print(f\"New Responses have been written to {output_file}\")"
   ]
  },
  {
   "cell_type": "markdown",
   "metadata": {},
   "source": [
    "go to rating_companies and pairwise_prompting to get company ratings\n",
    "note: you have to change the code slightly since the column names are different."
   ]
  },
  {
   "cell_type": "markdown",
   "metadata": {},
   "source": [
    "go to rating_companies_specific to get company ratings"
   ]
  }
 ],
 "metadata": {
  "kernelspec": {
   "display_name": "Python 3",
   "language": "python",
   "name": "python3"
  },
  "language_info": {
   "codemirror_mode": {
    "name": "ipython",
    "version": 3
   },
   "file_extension": ".py",
   "mimetype": "text/x-python",
   "name": "python",
   "nbconvert_exporter": "python",
   "pygments_lexer": "ipython3",
   "version": "3.9.6"
  }
 },
 "nbformat": 4,
 "nbformat_minor": 2
}
