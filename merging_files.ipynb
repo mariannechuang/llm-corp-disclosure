{
 "cells": [
  {
   "cell_type": "code",
   "execution_count": null,
   "metadata": {},
   "outputs": [],
   "source": []
  },
  {
   "cell_type": "markdown",
   "metadata": {},
   "source": [
    "the following code merges the filtered european 4.1a and 4.1b files using an outer join method"
   ]
  },
  {
   "cell_type": "code",
   "execution_count": 6,
   "metadata": {},
   "outputs": [],
   "source": [
    "import pandas as pd\n",
    "\n",
    "# Load the datasets\n",
    "df1 = pd.read_csv('filtered_europe_4.1a_files/Filtered_European_2018_c4.1a.csv')\n",
    "df2 = pd.read_csv('filtered_europe_4.1b_files/Filtered_European_2018_c4.1b.csv')\n",
    "\n",
    "# Outer join\n",
    "outer_merged_df = pd.merge(df1, df2, on= [\"Organization\", \"Country\", \"Primary activity\", \"Primary sector\", \"Primary industry\"], how='outer')\n",
    "\n",
    "# Save the merged dataset\n",
    "outer_merged_df.to_csv('merged_files/2018_merged_dataset.csv', index=False)"
   ]
  }
 ],
 "metadata": {
  "kernelspec": {
   "display_name": "Python 3",
   "language": "python",
   "name": "python3"
  },
  "language_info": {
   "codemirror_mode": {
    "name": "ipython",
    "version": 3
   },
   "file_extension": ".py",
   "mimetype": "text/x-python",
   "name": "python",
   "nbconvert_exporter": "python",
   "pygments_lexer": "ipython3",
   "version": "3.12.4"
  }
 },
 "nbformat": 4,
 "nbformat_minor": 2
}
